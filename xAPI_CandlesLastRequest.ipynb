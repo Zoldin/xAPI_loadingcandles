{
 "cells": [
  {
   "cell_type": "code",
   "execution_count": 1,
   "metadata": {},
   "outputs": [
    {
     "data": {
      "text/plain": [
       "113"
      ]
     },
     "execution_count": 1,
     "metadata": {},
     "output_type": "execute_result"
    }
   ],
   "source": [
    "import ssl\n",
    "import socket\n",
    "import json\n",
    "import numpy as np\n",
    "import pandas as pd\n",
    "from datetime import date\n",
    "from datetime import datetime\n",
    "import mysql.connector\n",
    "import decimal\n",
    "import datetime\n",
    "\n",
    "#connecto xAPI server, user credentials that are given to you\n",
    "HOST, PORT = 'xxxx', 5112\n",
    "command = b'{\"command\": \"login\",\"arguments\": {\"userId\": xxx,\"password\": \"xxx\"}}'\n",
    "\n",
    "#use socket library to connect via web socket\n",
    "sock = socket.socket(socket.AF_INET, socket.SOCK_STREAM)\n",
    "context = ssl.create_default_context()\n",
    "\n",
    "wrappedSocket = context.wrap_socket(sock, server_hostname=\"xxx\" )\n",
    "wrappedSocket.connect((HOST, PORT))\n",
    "wrappedSocket.settimeout(60.0)\n",
    "wrappedSocket.write(command)\n",
    "\n",
    "data = wrappedSocket.read(1024)\n"
   ]
  },
  {
   "cell_type": "code",
   "execution_count": null,
   "metadata": {},
   "outputs": [],
   "source": [
    "while(True):\n",
    "    time = datetime.datetime.utcnow()- datetime.timedelta(minutes=5)\n",
    "    unixtime = int((time - datetime.datetime(1970,1,1)).total_seconds())\n",
    "    print(time)\n",
    "    unixtime_extract = str(unixtime) + '000'\n",
    "    #lets call a method that retrieves 1 minute candles for us \n",
    "    command2 = '{\"command\": \"getChartLastRequest\",\"arguments\": {\"info\": {\"period\": 1,\"start\":' +  unixtime_extract + ',\"symbol\": \"GBPUSD\"}}}'\n",
    "    cc = bytes(command2, 'utf-8')\n",
    "    wrappedSocket.write(cc)\n",
    "    data = wrappedSocket.read(4096)\n",
    "    #json format need to be unpacked...\n",
    "    data_fromjson = json.loads(data)\n",
    "    ohlc_data = data_fromjson['returnData']['rateInfos']\n",
    "    \n",
    "    #default database connection \n",
    "    user='xxx' #user name\n",
    "    password='xxx' #password\n",
    "    ip='xxx' #host\n",
    "\n",
    "    #connect to mysql\n",
    "    mydb = mysql.connector.connect(\n",
    "      host=ip,\n",
    "      user=user,\n",
    "      passwd=password,\n",
    "      database=\"xxx\"\n",
    "    )\n",
    "    db_cursor = mydb.cursor()\n",
    "\n",
    "    for i in ohlc_data:\n",
    "        no_digits = len(str(int(i['open'])))\n",
    "        ctm = i['ctm']\n",
    "        open = i['open']*(10**-no_digits)\n",
    "        close = (i['open']+i['close'])*(10**-no_digits)\n",
    "        low = ((i['open']+i['low'])*(10**-no_digits))\n",
    "        high = ((i['open']+i['high'])*(10**-no_digits))\n",
    "        sql_insert_query = \"\"\" REPLACE  INTO `OHLC_GBPUSD`( `ctm`, `open`, `low`,`high`,`close`) VALUES (%s,%s,%s,%s,%s)\"\"\"\n",
    "        insert_tuple = (ctm,open,low,high,close)   \n",
    "        result  = db_cursor.execute(sql_insert_query, insert_tuple)\n",
    "        mydb.commit()\n",
    "    mydb.close()"
   ]
  }
 ],
 "metadata": {
  "kernelspec": {
   "display_name": "Python [conda env:anaconda_py36]",
   "language": "python",
   "name": "conda-env-anaconda_py36-py"
  },
  "language_info": {
   "codemirror_mode": {
    "name": "ipython",
    "version": 3
   },
   "file_extension": ".py",
   "mimetype": "text/x-python",
   "name": "python",
   "nbconvert_exporter": "python",
   "pygments_lexer": "ipython3",
   "version": "3.6.4"
  }
 },
 "nbformat": 4,
 "nbformat_minor": 2
}
